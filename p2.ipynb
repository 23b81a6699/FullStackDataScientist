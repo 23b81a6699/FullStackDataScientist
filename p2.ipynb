{
 "cells": [
  {
   "cell_type": "code",
   "execution_count": 2,
   "id": "0be98f11",
   "metadata": {},
   "outputs": [
    {
     "name": "stdout",
     "output_type": "stream",
     "text": [
      "57 is not Prime \n"
     ]
    }
   ],
   "source": [
    "num = int(input(\"Enter a number : \"))\n",
    "\n",
    "if num > 1:\n",
    "    for i in range(2, num):\n",
    "        if num % i == 0:\n",
    "            print(num, \"is not Prime \")\n",
    "            break\n",
    "    else:\n",
    "        print(num, \"is Prime \")\n",
    "else:\n",
    "    print(num, \"is  Prime \")"
   ]
  },
  {
   "cell_type": "code",
   "execution_count": 3,
   "id": "27f70923",
   "metadata": {},
   "outputs": [
    {
     "name": "stdout",
     "output_type": "stream",
     "text": [
      "[12, 56, 87]\n",
      "Second largest number is: 56\n"
     ]
    }
   ],
   "source": [
    "n= [int(x) for x in input().split()]\n",
    "n.sort()\n",
    "print(n)\n",
    "print(\"Second largest number is:\", n[-2])"
   ]
  },
  {
   "cell_type": "code",
   "execution_count": 4,
   "id": "beb0612c",
   "metadata": {},
   "outputs": [
    {
     "name": "stdout",
     "output_type": "stream",
     "text": [
      "Sum of even numbers from 1 to 50: 650\n"
     ]
    }
   ],
   "source": [
    "sum = 0\n",
    "for i in range(1, 51):\n",
    "    if i % 2 == 0:\n",
    "        sum+= i\n",
    "print(\"Sum of even numbers from 1 to 50:\", sum)"
   ]
  },
  {
   "cell_type": "code",
   "execution_count": 5,
   "id": "8f67d9cd",
   "metadata": {},
   "outputs": [
    {
     "name": "stdout",
     "output_type": "stream",
     "text": [
      "Hello World\n",
      "Uppercase letters: 2\n",
      "Lowercase letters: 8\n"
     ]
    }
   ],
   "source": [
    "text = input(\"Enter a string : \")\n",
    "upper = lower = 0\n",
    "\n",
    "for ch in text:\n",
    "    if ch.isupper():\n",
    "        upper += 1\n",
    "    elif ch.islower():\n",
    "        lower += 1\n",
    "print(text)\n",
    "print(\"Uppercase letters:\", upper)\n",
    "print(\"Lowercase letters:\", lower)"
   ]
  },
  {
   "cell_type": "code",
   "execution_count": 6,
   "id": "cbf8f783",
   "metadata": {},
   "outputs": [
    {
     "name": "stdout",
     "output_type": "stream",
     "text": [
      "0 1 1 2 3 "
     ]
    }
   ],
   "source": [
    "n = int(input(\"Enter a number : \"))\n",
    "a, b = 0, 1\n",
    "\n",
    "for i in range(n):\n",
    "    print(a, end=\" \")\n",
    "    a, b = b, a + b\n"
   ]
  },
  {
   "cell_type": "code",
   "execution_count": 8,
   "id": "61629797",
   "metadata": {},
   "outputs": [
    {
     "name": "stdout",
     "output_type": "stream",
     "text": [
      "lamp\n",
      "plam\n",
      "They are Anagrams \n"
     ]
    }
   ],
   "source": [
    "s1 = input(\"Enter the 1st word : \")\n",
    "s2 = input(\"Enter the 2nd word : \")\n",
    "print(s1)\n",
    "print(s2)\n",
    "\n",
    "if sorted(s1) == sorted(s2):\n",
    "    print(\"They are Anagrams \")\n",
    "else:\n",
    "    print(\"They are not Anagrams \")"
   ]
  },
  {
   "cell_type": "code",
   "execution_count": 10,
   "id": "862ea406",
   "metadata": {},
   "outputs": [
    {
     "name": "stdout",
     "output_type": "stream",
     "text": [
      "6 is a Perfect number \n"
     ]
    }
   ],
   "source": [
    "n= int(input(\"Enter a number : \"))\n",
    "div_sum = 0\n",
    "\n",
    "for i in range(1, n):\n",
    "    if n % i == 0:\n",
    "        div_sum += i\n",
    "\n",
    "if div_sum == n:\n",
    "    print(n, \"is a Perfect number \")\n",
    "else:\n",
    "    print(n, \"is not a Perfect number \")"
   ]
  },
  {
   "cell_type": "code",
   "execution_count": 12,
   "id": "33adafba",
   "metadata": {},
   "outputs": [
    {
     "name": "stdout",
     "output_type": "stream",
     "text": [
      "Percentage: 74.2\n",
      "Grade: C\n"
     ]
    }
   ],
   "source": [
    "total = 0\n",
    "\n",
    "for i in range(5):\n",
    "    mark = int(input(f\"Enter mark {i+1}: \"))\n",
    "    total += mark   \n",
    "\n",
    "per = total / 5\n",
    "print(\"Percentage:\", per)\n",
    "\n",
    "if per >= 90:\n",
    "    print(\"Grade: A\")\n",
    "elif per >= 75:\n",
    "    print(\"Grade: B\")\n",
    "elif per >= 50:\n",
    "    print(\"Grade: C\")\n",
    "else:\n",
    "    print(\"Grade: Fail\")"
   ]
  },
  {
   "cell_type": "code",
   "execution_count": 14,
   "id": "d6d12ad0",
   "metadata": {},
   "outputs": [
    {
     "name": "stdout",
     "output_type": "stream",
     "text": [
      "Printing prime numbers from 2 to 100\n",
      "2 3 5 7 11 13 17 19 23 29 31 37 41 43 47 53 59 61 67 71 73 79 83 89 97 "
     ]
    }
   ],
   "source": [
    "print(\"Printing prime numbers from 2 to 100\")\n",
    "for n in range(2, 101):\n",
    "    for i in range(2, n):\n",
    "        if n % i == 0:\n",
    "            break\n",
    "    else:\n",
    "        print(n, end=\" \")"
   ]
  },
  {
   "cell_type": "code",
   "execution_count": 15,
   "id": "c3a7b154",
   "metadata": {},
   "outputs": [
    {
     "name": "stdout",
     "output_type": "stream",
     "text": [
      "Hello World\n",
      "Word count: 2\n"
     ]
    }
   ],
   "source": [
    "s = input(\"Enter a sentence : \")\n",
    "count = 1\n",
    "\n",
    "for ch in s:\n",
    "    if ch == \" \":\n",
    "        count += 1\n",
    "print(s)\n",
    "print(\"Word count:\", count)"
   ]
  },
  {
   "cell_type": "code",
   "execution_count": 18,
   "id": "76b93b59",
   "metadata": {},
   "outputs": [
    {
     "name": "stdout",
     "output_type": "stream",
     "text": [
      "Price =  99.99  , Age =  70  , Student Name =  seeta\n",
      "Final ticket price: 89.991\n"
     ]
    }
   ],
   "source": [
    "price = float(input(\"Enter the price : \"))\n",
    "age = int(input(\"Enter the age : \"))\n",
    "student = input(\"Enter the student name : \")\n",
    "print(\"Price = \",price,\" , Age = \",age,\" , Student Name = \",student)\n",
    "\n",
    "if student.lower() == \"yes\":\n",
    "    price -= price * 0.20\n",
    "elif age >= 60:\n",
    "    price -= price * 0.10\n",
    "\n",
    "print(\"Final ticket price:\", price)"
   ]
  },
  {
   "cell_type": "code",
   "execution_count": 19,
   "id": "63268a02",
   "metadata": {},
   "outputs": [
    {
     "name": "stdout",
     "output_type": "stream",
     "text": [
      "89.78\n",
      "Final amount: 139.78\n"
     ]
    }
   ],
   "source": [
    "cart = float(input())\n",
    "print(cart)\n",
    "if cart > 500:\n",
    "    print(\"Final amount:\", cart)\n",
    "else:\n",
    "    print(\"Final amount:\", cart + 50)"
   ]
  },
  {
   "cell_type": "code",
   "execution_count": 21,
   "id": "8616f19d",
   "metadata": {},
   "outputs": [
    {
     "name": "stdout",
     "output_type": "stream",
     "text": [
      "Marks :  90\n",
      "Grade: A\n"
     ]
    }
   ],
   "source": [
    "marks = int(input(\"Enter the marks : \"))\n",
    "print(\"Marks : \" ,marks)\n",
    "\n",
    "if marks >= 90:\n",
    "    print(\"Grade: A\")\n",
    "elif marks >= 75:\n",
    "    print(\"Grade: B\")\n",
    "elif marks >= 50:\n",
    "    print(\"Grade: C\")\n",
    "else:\n",
    "    print(\"Grade: Fail\")\n"
   ]
  },
  {
   "cell_type": "code",
   "execution_count": 23,
   "id": "8ccc09d6",
   "metadata": {},
   "outputs": [
    {
     "name": "stdout",
     "output_type": "stream",
     "text": [
      "690.9\n",
      "Tip to be added: 69.09\n"
     ]
    }
   ],
   "source": [
    "bill = float(input(\"Enter the bill : \"))\n",
    "print(bill)\n",
    "\n",
    "if bill < 500:\n",
    "    tip = bill * 0.05\n",
    "elif bill <= 1000:\n",
    "    tip = bill * 0.10\n",
    "else:\n",
    "    tip = bill * 0.15\n",
    "\n",
    "print(\"Tip to be added:\", tip)"
   ]
  },
  {
   "cell_type": "code",
   "execution_count": 25,
   "id": "f088a2db",
   "metadata": {},
   "outputs": [
    {
     "name": "stdout",
     "output_type": "stream",
     "text": [
      "Month =  6\n",
      "Cost: ₹2700\n"
     ]
    }
   ],
   "source": [
    "months = int(input(\"Enter a month number : \"))\n",
    "print(\"Month = \" ,months)\n",
    "\n",
    "if months == 1:\n",
    "    print(\"Cost: ₹500\")\n",
    "elif months == 6:\n",
    "    print(\"Cost: ₹2700\")\n",
    "elif months == 12:\n",
    "    print(\"Cost: ₹5000\")\n",
    "else:\n",
    "    print(\"Cost: ₹\", months * 500)"
   ]
  },
  {
   "cell_type": "code",
   "execution_count": 27,
   "id": "a2184b91",
   "metadata": {},
   "outputs": [
    {
     "name": "stdout",
     "output_type": "stream",
     "text": [
      "80.0\n",
      "Eligible \n"
     ]
    }
   ],
   "source": [
    "total = int(input(\"Enter total no.of class : \"))\n",
    "attended = int(input(\"Enter the no.of class attendend : \"))\n",
    "attendance = (attended / total) * 100\n",
    "print(attendance)\n",
    "if attendance >= 75:\n",
    "    print(\"Eligible \")\n",
    "else:\n",
    "    print(\"Not Eligible \")\n"
   ]
  },
  {
   "cell_type": "code",
   "execution_count": 28,
   "id": "6cf8f28b",
   "metadata": {},
   "outputs": [
    {
     "name": "stdout",
     "output_type": "stream",
     "text": [
      "Transaction Successful \n"
     ]
    }
   ],
   "source": [
    "amount = int(input(\"Enter the amount : \"))\n",
    "\n",
    "if amount % 100 == 0:\n",
    "    print(\"Transaction Successful \")\n",
    "else:\n",
    "    print(\"Transaction Failed \")"
   ]
  },
  {
   "cell_type": "code",
   "execution_count": 29,
   "id": "c25bdcec",
   "metadata": {},
   "outputs": [
    {
     "name": "stdout",
     "output_type": "stream",
     "text": [
      "24\n",
      "Nice weather, go out!\n"
     ]
    }
   ],
   "source": [
    "temp = int(input(\"give the temperature : \"))\n",
    "print(temp)\n",
    "if temp > 35:\n",
    "    print(\"Too hot, stay indoors!\")\n",
    "elif temp >= 20:\n",
    "    print(\"Nice weather, go out!\")\n",
    "else:\n",
    "    print(\"It’s cold, wear warm clothes!\")"
   ]
  },
  {
   "cell_type": "code",
   "execution_count": 31,
   "id": "70020ba2",
   "metadata": {},
   "outputs": [
    {
     "name": "stdout",
     "output_type": "stream",
     "text": [
      "5\n",
      "Fine amount: ₹ 10\n"
     ]
    }
   ],
   "source": [
    "days = int(input(\"Enter the no.of days late : \"))\n",
    "print(days)\n",
    "if days <= 5:\n",
    "    fine = 10\n",
    "elif days <= 10:\n",
    "    fine = 50\n",
    "else:\n",
    "    fine = 100\n",
    "\n",
    "print(\"Fine amount: ₹\", fine)"
   ]
  },
  {
   "cell_type": "code",
   "execution_count": 32,
   "id": "20a8f128",
   "metadata": {},
   "outputs": [
    {
     "name": "stdout",
     "output_type": "stream",
     "text": [
      "400 units\n",
      "Bill amount: ₹ 3200\n"
     ]
    }
   ],
   "source": [
    "units = int(input(\"Enter the electricity units : \"))\n",
    "print(units,\"units\")\n",
    "if units <= 100:\n",
    "    bill = units * 5\n",
    "elif units <= 200:\n",
    "    bill = (100 * 5) + (units - 100) * 7\n",
    "else:\n",
    "    bill = (100 * 5) + (100 * 7) + (units - 200) * 10\n",
    "\n",
    "print(\"Bill amount: ₹\", bill)"
   ]
  },
  {
   "cell_type": "code",
   "execution_count": null,
   "id": "495c5ca6",
   "metadata": {},
   "outputs": [],
   "source": []
  }
 ],
 "metadata": {
  "kernelspec": {
   "display_name": "Python 3",
   "language": "python",
   "name": "python3"
  },
  "language_info": {
   "codemirror_mode": {
    "name": "ipython",
    "version": 3
   },
   "file_extension": ".py",
   "mimetype": "text/x-python",
   "name": "python",
   "nbconvert_exporter": "python",
   "pygments_lexer": "ipython3",
   "version": "3.11.0"
  }
 },
 "nbformat": 4,
 "nbformat_minor": 5
}
