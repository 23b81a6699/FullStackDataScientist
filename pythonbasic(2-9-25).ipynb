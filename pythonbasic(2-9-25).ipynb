{
 "cells": [
  {
   "cell_type": "code",
   "execution_count": 1,
   "id": "d722229e",
   "metadata": {},
   "outputs": [
    {
     "name": "stdout",
     "output_type": "stream",
     "text": [
      "Total Bill = (50*2) + (30*5) + (20*3) = 310\n"
     ]
    }
   ],
   "source": [
    "items = {\n",
    "    \"Item1\": (50, 2),\n",
    "    \"Item2\": (30, 5),\n",
    "    \"Item3\": (20, 3)\n",
    "}\n",
    "\n",
    "total_bill = 0\n",
    "calculation = []\n",
    "\n",
    "for item, (price, qty) in items.items():\n",
    "    cost = price * qty\n",
    "    total_bill += cost\n",
    "    calculation.append(f\"({price}*{qty})\")\n",
    "\n",
    "print(f\"Total Bill = {' + '.join(calculation)} = {total_bill}\")\n"
   ]
  },
  {
   "cell_type": "code",
   "execution_count": 2,
   "id": "8fee61cb",
   "metadata": {},
   "outputs": [
    {
     "name": "stdout",
     "output_type": "stream",
     "text": [
      "Addition =  19\n",
      "Subtraction =  11\n",
      "Multiplication =  60\n",
      "Division =  3.75\n",
      "Modulus =  3\n"
     ]
    }
   ],
   "source": [
    "fnum = int(input(\"Enter first number:\"))\n",
    "snum = int(input(\"Enter second number:\"))\n",
    "def cal(fnum,snum) :\n",
    "    print(\"Addition = \",(fnum+snum))\n",
    "    print(\"Subtraction = \",(fnum-snum))\n",
    "    print(\"Multiplication = \",(fnum*snum))\n",
    "    print(\"Division = \",float(fnum/snum))\n",
    "    print(\"Modulus = \",(fnum%snum))\n",
    "cal(fnum,snum)"
   ]
  },
  {
   "cell_type": "code",
   "execution_count": 3,
   "id": "fe8338c7",
   "metadata": {},
   "outputs": [
    {
     "name": "stdout",
     "output_type": "stream",
     "text": [
      "Grade: A\n"
     ]
    }
   ],
   "source": [
    "marks = int(input(\"Enter marks : \"))\n",
    "\n",
    "if marks >= 90:\n",
    "    print(\"Grade: A+\")\n",
    "elif marks >= 80 and marks<=89 :\n",
    "    print(\"Grade: A\")\n",
    "elif marks >= 70 and marks <=79 :\n",
    "    print(\"Grade: B\")\n",
    "elif marks >= 60 and marks <=69 :\n",
    "    print(\"Grade: C\")\n",
    "else:\n",
    "    print(\"Grade: Fail\")"
   ]
  },
  {
   "cell_type": "code",
   "execution_count": 9,
   "id": "51f08dce",
   "metadata": {},
   "outputs": [
    {
     "name": "stdout",
     "output_type": "stream",
     "text": [
      "Highest Marks =  90\n",
      "Lowest Marks =  45\n",
      "Average Marks =  71.4\n"
     ]
    }
   ],
   "source": [
    "Marks = [45, 78, 88, 56, 90]\n",
    "maxMarks = max(Marks)\n",
    "print(\"Highest Marks = \",maxMarks)\n",
    "minMarks = min(Marks)\n",
    "print(\"Lowest Marks = \",minMarks)\n",
    "avgMarks = sum(Marks) / len(Marks)\n",
    "print(\"Average Marks = \",avgMarks)"
   ]
  },
  {
   "cell_type": "code",
   "execution_count": 10,
   "id": "42322b3a",
   "metadata": {},
   "outputs": [
    {
     "name": "stdout",
     "output_type": "stream",
     "text": [
      "Phone Number of  Ravi : 9123456780\n"
     ]
    }
   ],
   "source": [
    "Phonebook = {\"Suhel\": 9876543210, \"Ravi\": 9123456780, \"Anita\": 9988776655}\n",
    "search_name = input(\"Search Name: \")\n",
    "print(\"Phone Number of \",search_name,\":\",Phonebook[search_name])"
   ]
  },
  {
   "cell_type": "code",
   "execution_count": 15,
   "id": "ed5ec2f3",
   "metadata": {},
   "outputs": [
    {
     "name": "stdout",
     "output_type": "stream",
     "text": [
      "Total Words =  3\n",
      "Total Characters =  16\n",
      "Total Vowels =  6\n"
     ]
    }
   ],
   "source": [
    "sentence = input(\"Enter Sentence: \")\n",
    "\n",
    "vcount = 0  \n",
    "ccount = 0  \n",
    "wcount = 0  \n",
    "\n",
    "for i in sentence:\n",
    "    if i in \"aeiouAEIOU\":\n",
    "        vcount += 1       \n",
    "    if i == \" \":\n",
    "        wcount += 1       \n",
    "    if i != \" \":\n",
    "        ccount += 1       \n",
    "\n",
    "wcount += 1 if sentence.strip() != \"\" else 0\n",
    "\n",
    "print(\"Total Words = \", wcount)\n",
    "print(\"Total Characters = \", ccount+1)\n",
    "print(\"Total Vowels = \", vcount)\n"
   ]
  },
  {
   "cell_type": "code",
   "execution_count": 16,
   "id": "7df89108",
   "metadata": {},
   "outputs": [
    {
     "name": "stdout",
     "output_type": "stream",
     "text": [
      "Compound Interest = 512.50\n",
      "Total Amount = 5512.50\n"
     ]
    }
   ],
   "source": [
    "principal = float(input(\"Principal = \"))\n",
    "rate = float(input(\"Rate = \"))\n",
    "time = float(input(\"Time = \"))\n",
    "interest_type = input(\"Enter Interest Type (Simple/Compound): \").strip().lower()\n",
    "\n",
    "if interest_type == \"simple\":\n",
    "    interest = (principal * rate * time) / 100\n",
    "    total_amount = principal + interest\n",
    "    print(f\"Simple Interest = {interest:.2f}\")\n",
    "    print(f\"Total Amount = {total_amount:.2f}\")\n",
    "\n",
    "elif interest_type == \"compound\":\n",
    "    total_amount = principal * ((1 + (rate / 100)) ** time)\n",
    "    interest = total_amount - principal\n",
    "    print(f\"Compound Interest = {interest:.2f}\")\n",
    "    print(f\"Total Amount = {total_amount:.2f}\")\n",
    "\n"
   ]
  },
  {
   "cell_type": "code",
   "execution_count": 17,
   "id": "b72f4013",
   "metadata": {},
   "outputs": [
    {
     "name": "stdout",
     "output_type": "stream",
     "text": [
      "Encrypted Message:  KHOOR\n"
     ]
    }
   ],
   "source": [
    "message = input(\"Message = \").upper()\n",
    "shift = int(input(\"Shift = \"))\n",
    "\n",
    "encrypted_text = \"\"\n",
    "\n",
    "for char in message:\n",
    "    if char.isalpha():  \n",
    "        encrypted_text += chr((ord(char) - 65 + shift) % 26 + 65)\n",
    "    else:\n",
    "        encrypted_text += char  \n",
    "\n",
    "print(\"Encrypted Message: \", encrypted_text)\n"
   ]
  },
  {
   "cell_type": "code",
   "execution_count": 19,
   "id": "7b9d0866",
   "metadata": {},
   "outputs": [
    {
     "name": "stdout",
     "output_type": "stream",
     "text": [
      "Withdrawal Successful. Remaining Balance =  3000\n"
     ]
    }
   ],
   "source": [
    "pin = int(input(\"PIN = \"))\n",
    "correct_pin = 1234\n",
    "balance = 5000\n",
    "\n",
    "\n",
    "if pin == correct_pin:\n",
    "    withdraw = int(input(\"Withdraw = \"))\n",
    "    \n",
    "    if withdraw <= balance:\n",
    "        balance -= withdraw\n",
    "        print(f\"Withdrawal Successful. Remaining Balance = \",balance)\n",
    "    else:\n",
    "        print(\"Insufficient Balance\")\n",
    "else:\n",
    "    print(\"Invalid PIN\")\n"
   ]
  },
  {
   "cell_type": "code",
   "execution_count": 24,
   "id": "579ce7d1",
   "metadata": {},
   "outputs": [
    {
     "name": "stdout",
     "output_type": "stream",
     "text": [
      "Current Books:  ['Python Basics', 'AI Fundamentals', 'Machine Learning']\n",
      "Total Books:  3\n"
     ]
    }
   ],
   "source": [
    "Books = [\"Python Basics\", \"Data Science\", \"AI Fundamentals\"]\n",
    "Books.append(\"Machine Learning\")\n",
    "Books.remove(\"Data Science\")\n",
    "print(\"Current Books: \",Books)\n",
    "print(\"Total Books: \",len(Books))"
   ]
  },
  {
   "cell_type": "code",
   "execution_count": null,
   "id": "4ae8400e",
   "metadata": {},
   "outputs": [],
   "source": []
  }
 ],
 "metadata": {
  "kernelspec": {
   "display_name": "Python 3",
   "language": "python",
   "name": "python3"
  },
  "language_info": {
   "codemirror_mode": {
    "name": "ipython",
    "version": 3
   },
   "file_extension": ".py",
   "mimetype": "text/x-python",
   "name": "python",
   "nbconvert_exporter": "python",
   "pygments_lexer": "ipython3",
   "version": "3.11.0"
  }
 },
 "nbformat": 4,
 "nbformat_minor": 5
}
