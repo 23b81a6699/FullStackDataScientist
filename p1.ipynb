{
 "cells": [
  {
   "cell_type": "code",
   "execution_count": 7,
   "id": "150b1e30",
   "metadata": {},
   "outputs": [
    {
     "name": "stdout",
     "output_type": "stream",
     "text": [
      "Before Swaping : a =  4  , b =  5\n",
      "After Swaping : a =  5  , b =  4\n"
     ]
    }
   ],
   "source": [
    "def cal(a,b) :\n",
    "    print(\"Before Swaping : a = \",a,\" , b = \",b)\n",
    "    a = a+b\n",
    "    b = a-b \n",
    "    a = a-b\n",
    "    #a , b = b , a\n",
    "    print(\"After Swaping : a = \",a,\" , b = \",b)\n",
    "\n",
    "a = int(input(\"Enter a: \"))\n",
    "b = int(input(\"Enter b: \"))\n",
    "cal(a,b)"
   ]
  },
  {
   "cell_type": "code",
   "execution_count": 12,
   "id": "0032abd5",
   "metadata": {},
   "outputs": [
    {
     "name": "stdout",
     "output_type": "stream",
     "text": [
      "Book Title :  bookthis\n",
      "Mirror view : sihtkoob\n"
     ]
    }
   ],
   "source": [
    "name = input(\"Enter the book title: \")\n",
    "print(\"Book Title : \" , name)\n",
    "rname = \"\"\n",
    "for i in name:\n",
    "    rname = i + rname\n",
    "\n",
    "print(\"Mirror view :\", rname)"
   ]
  },
  {
   "cell_type": "code",
   "execution_count": 3,
   "id": "4a80c835",
   "metadata": {},
   "outputs": [
    {
     "name": "stdout",
     "output_type": "stream",
     "text": [
      "153 Amstrong Number\n"
     ]
    }
   ],
   "source": [
    "anum = int(input(\"Enter a number to check Amstrong : \"))\n",
    "l = len(str(anum))\n",
    "\n",
    "sum=0\n",
    "temp = anum \n",
    "\n",
    "while temp > 0:\n",
    "    digit = temp % 10\n",
    "    sum += digit ** l\n",
    "    temp //= 10\n",
    "\n",
    "if (sum == anum) :\n",
    "    print(anum , \"Amstrong Number\")\n",
    "else :\n",
    "    print(anum , \"Not Amstrong Number\")"
   ]
  },
  {
   "cell_type": "code",
   "execution_count": 8,
   "id": "1251fd6a",
   "metadata": {},
   "outputs": [
    {
     "name": "stdout",
     "output_type": "stream",
     "text": [
      "Sentence :  This is Poojitha\n",
      "Vowels: 6\n",
      "Consonants: 8\n"
     ]
    }
   ],
   "source": [
    "sentence = input(\"Enter a sentence: \")\n",
    "print(\"Sentence : \" ,sentence )\n",
    "\n",
    "vowels = \"aeiouAEIOU\"\n",
    "vcount = 0\n",
    "ccount = 0\n",
    "\n",
    "for c in sentence:\n",
    "    if c.isalpha():  \n",
    "        if c in vowels:\n",
    "            vcount += 1\n",
    "        else:\n",
    "            ccount += 1\n",
    "\n",
    "print(\"Vowels:\", vcount)\n",
    "print(\"Consonants:\", ccount)\n"
   ]
  },
  {
   "cell_type": "code",
   "execution_count": 10,
   "id": "b75bea05",
   "metadata": {},
   "outputs": [
    {
     "name": "stdout",
     "output_type": "stream",
     "text": [
      "5  x  1  =  5\n",
      "5  x  2  =  10\n",
      "5  x  3  =  15\n",
      "5  x  4  =  20\n",
      "5  x  5  =  25\n",
      "5  x  6  =  30\n",
      "5  x  7  =  35\n",
      "5  x  8  =  40\n",
      "5  x  9  =  45\n",
      "5  x  10  =  50\n"
     ]
    }
   ],
   "source": [
    "a = int(input(\"Enter a number : \"))\n",
    "\n",
    "for i in range(1,11) :\n",
    "    print(a ,\" x \",i,\" = \" , a*i)"
   ]
  },
  {
   "cell_type": "code",
   "execution_count": 13,
   "id": "638823f0",
   "metadata": {},
   "outputs": [
    {
     "name": "stdout",
     "output_type": "stream",
     "text": [
      "4400  is not a leap year.\n"
     ]
    }
   ],
   "source": [
    "ly = int(input(\"Enter a Year : \"))\n",
    "\n",
    "if (ly%4==0 and ly%400 and ly%100!=0) :\n",
    "    print(ly,\" is a Leap Year.\")\n",
    "else :\n",
    "    print(ly , \" is not a leap year.\")\n",
    "    \n"
   ]
  },
  {
   "cell_type": "code",
   "execution_count": null,
   "id": "00cec7c0",
   "metadata": {},
   "outputs": [
    {
     "name": "stdout",
     "output_type": "stream",
     "text": [
      "[46, 98, 99, 37, 20]\n",
      "The highest score is: 99\n"
     ]
    }
   ],
   "source": [
    "scores = list(map(int, input(\"Enter 5 scores separated by space: \").split()))\n",
    "print(scroes)\n",
    "highest = max(scores)\n",
    "\n",
    "print(\"The highest score is:\", highest)\n"
   ]
  },
  {
   "cell_type": "code",
   "execution_count": 18,
   "id": "8e19a165",
   "metadata": {},
   "outputs": [
    {
     "name": "stdout",
     "output_type": "stream",
     "text": [
      "Patient ID :  Madam\n",
      "madaM  is not a palindrome.\n"
     ]
    }
   ],
   "source": [
    "id = input(\"Enter the patient id : \")\n",
    "print(\"Patient ID : \" , id)\n",
    "rid = \"\"\n",
    "for i in id:\n",
    "    rid = i + rid\n",
    "\n",
    "if(id == rid) :\n",
    "    print(rid ,\" is a Palindrome. \")\n",
    "else :\n",
    "    print(rid , \" is not a palindrome.\")"
   ]
  },
  {
   "cell_type": "code",
   "execution_count": 21,
   "id": "533de537",
   "metadata": {},
   "outputs": [
    {
     "name": "stdout",
     "output_type": "stream",
     "text": [
      "The number of ways to arrange 5 workers is: 120\n"
     ]
    }
   ],
   "source": [
    "num = int(input(\"Enter a number : \"))\n",
    "fnum = 1\n",
    "for i in range(1, num + 1):\n",
    "    fnum *= i\n",
    "\n",
    "print(f\"The number of ways to arrange {num} workers is: {fnum}\")"
   ]
  },
  {
   "cell_type": "code",
   "execution_count": 22,
   "id": "46c65397",
   "metadata": {},
   "outputs": [
    {
     "name": "stdout",
     "output_type": "stream",
     "text": [
      "Numbers divisible by both 3 and 5 between 1 and 100:\n",
      "15 30 45 60 75 90 "
     ]
    }
   ],
   "source": [
    "print(\"Numbers divisible by both 3 and 5 between 1 and 100:\")\n",
    "\n",
    "for num in range(1, 101):\n",
    "    if num % 3 == 0 and num % 5 == 0:\n",
    "        print(num, end=\" \")\n"
   ]
  },
  {
   "cell_type": "code",
   "execution_count": null,
   "id": "6d19f3cc",
   "metadata": {},
   "outputs": [],
   "source": []
  }
 ],
 "metadata": {
  "kernelspec": {
   "display_name": "Python 3",
   "language": "python",
   "name": "python3"
  },
  "language_info": {
   "codemirror_mode": {
    "name": "ipython",
    "version": 3
   },
   "file_extension": ".py",
   "mimetype": "text/x-python",
   "name": "python",
   "nbconvert_exporter": "python",
   "pygments_lexer": "ipython3",
   "version": "3.11.0"
  }
 },
 "nbformat": 4,
 "nbformat_minor": 5
}
